{
 "cells": [
  {
   "cell_type": "markdown",
   "id": "herbal-atmosphere",
   "metadata": {},
   "source": [
    "### Exercise-1: Calculating the average value of a CV"
   ]
  },
  {
   "cell_type": "code",
   "execution_count": 17,
   "id": "conceptual-intervention",
   "metadata": {},
   "outputs": [],
   "source": [
    "# Import some useful python libraries\n",
    "import matplotlib.pyplot as plt\n",
    "import numpy as np\n",
    "import scipy.stats\n",
    "import os"
   ]
  },
  {
   "cell_type": "code",
   "execution_count": 18,
   "id": "raising-monitor",
   "metadata": {},
   "outputs": [
    {
     "name": "stdout",
     "output_type": "stream",
     "text": [
      "/mnt/c/Users/Salman Bin Kashif/Dropbox/codes/plumed-materclass-21-2\r\n"
     ]
    },
    {
     "data": {
      "text/plain": [
       "'/mnt/c/Users/Salman Bin Kashif/Dropbox/codes/plumed-materclass-21-2'"
      ]
     },
     "execution_count": 18,
     "metadata": {},
     "output_type": "execute_result"
    }
   ],
   "source": [
    "os.chdir(\"/mnt/c/Users/Salman Bin Kashif/Dropbox/codes/plumed-materclass-21-2\")\n",
    "# set working directory for all future cells\n",
    "!pwd\n",
    "# or in python\n",
    "os.getcwd()"
   ]
  },
  {
   "cell_type": "code",
   "execution_count": 12,
   "id": "collaborative-concentration",
   "metadata": {},
   "outputs": [],
   "source": [
    "pex0 = '''d1: READ FILE=data VALUE=d1 \n",
    "          PRINT ARG=d1 FILE=colvar'''"
   ]
  },
  {
   "cell_type": "code",
   "execution_count": 15,
   "id": "atomic-characteristic",
   "metadata": {},
   "outputs": [],
   "source": [
    "!cd Exercises\n",
    "!mkdir Exercises_0"
   ]
  },
  {
   "cell_type": "code",
   "execution_count": 16,
   "id": "guided-paint",
   "metadata": {},
   "outputs": [
    {
     "name": "stdout",
     "output_type": "stream",
     "text": [
      "/bin/bash: line 0: cd: ../Exercises/Exercise_1: No such file or directory\r\n"
     ]
    }
   ],
   "source": [
    "# Output the input file above to the plumed.dat file\n",
    "!cd Exercises_0\n",
    "f = open(\"plumed.dat\", \"w\")\n",
    "f.write( pex0 )\n",
    "f.close()"
   ]
  },
  {
   "cell_type": "code",
   "execution_count": 21,
   "id": "baking-dryer",
   "metadata": {},
   "outputs": [
    {
     "name": "stdout",
     "output_type": "stream",
     "text": [
      "/mnt/c/Users/Salman Bin Kashif/Dropbox/codes/plumed-materclass-21-2\n",
      "PLUMED: PLUMED is starting\n",
      "PLUMED: Version: 2.7.0 (git: Unknown) compiled on Dec 23 2020 at 20:21:21\n",
      "PLUMED: Please cite these papers when using PLUMED [1][2]\n",
      "PLUMED: For further information see the PLUMED web page at http://www.plumed.org\n",
      "PLUMED: Root: /home/sbkashif-wsl2/anaconda3/envs/plumed-masterclass/lib/plumed\n",
      "PLUMED: For installed feature, see /home/sbkashif-wsl2/anaconda3/envs/plumed-masterclass/lib/plumed/src/config/config.txt\n",
      "PLUMED: Molecular dynamics engine: driver\n",
      "PLUMED: Precision of reals: 8\n",
      "PLUMED: Running over 1 node\n",
      "PLUMED: Number of threads: 1\n",
      "PLUMED: Cache line size: 512\n",
      "PLUMED: Number of atoms: 0\n",
      "PLUMED: File suffix: \n",
      "PLUMED: FILE: plumed.dat\n",
      "PLUMED: Action UNITS\n",
      "PLUMED:   with label @0\n",
      "PLUMED:   length: nm\n",
      "PLUMED:   energy: kj/mol\n",
      "PLUMED:   time: ps\n",
      "PLUMED:   charge: e\n",
      "PLUMED:   mass: amu\n",
      "PLUMED:   using natural units\n",
      "PLUMED:   inside PLUMED, Boltzmann constant is 1\n",
      "PLUMED: Action READ\n",
      "PLUMED:   with label data\n",
      "PLUMED:   with stride 1\n",
      "PLUMED:   reading data from file ../../data/uncorrelated_data\n",
      "PLUMED:   reading value rand and storing as data\n",
      "PLUMED: Action HISTOGRAM\n",
      "PLUMED:   with label hhh\n",
      "PLUMED:   with stride 1\n",
      "PLUMED:   with arguments data\n",
      "PLUMED:   weights are all equal to one\n",
      "PLUMED:   grid of 101 equally spaced points between (-4.5) and (4.5)\n",
      "PLUMED: Action CONVERT_TO_FES\n",
      "PLUMED:   with label fes\n",
      "PLUMED:   using 0th component of grid calculated by action hhh \n",
      "PLUMED:   grid of 101 equally spaced points between (-4.5) and (4.5)\n",
      "PLUMED: Action DUMPGRID\n",
      "PLUMED:   with label @4\n",
      "PLUMED:   with stride 0\n",
      "PLUMED:   outputting grid calculated by action fes to file named fes,dat with format %f \n",
      "PLUMED:   outputting data for replicas 0 END FILE: plumed.dat\n",
      "PLUMED: Timestep: 1.000000\n",
      "PLUMED: KbT has not been set by the MD engine\n",
      "PLUMED: It should be set by hand where needed\n",
      "PLUMED: Relevant bibliography:\n",
      "PLUMED:   [1] The PLUMED consortium, Nat. Methods 16, 670 (2019)\n",
      "PLUMED:   [2] Tribello, Bonomi, Branduardi, Camilloni, and Bussi, Comput. Phys. Commun. 185, 604 (2014)\n",
      "PLUMED: Please read and cite where appropriate!\n",
      "PLUMED: Finished setup\n",
      "PLUMED:                                               Cycles        Total      Average      Minimum      Maximum\n",
      "PLUMED:                                                    1     0.797295     0.797295     0.797295     0.797295\n",
      "PLUMED: 1 Prepare dependencies                         10001     0.020176     0.000002     0.000001     0.000161\n",
      "PLUMED: 2 Sharing data                                 10001     0.005465     0.000001     0.000000     0.000088\n",
      "PLUMED: 3 Waiting for data                             10001     0.005839     0.000001     0.000000     0.000166\n",
      "PLUMED: 4 Calculating (forward loop)                   10001     0.066400     0.000007     0.000004     0.001451\n",
      "PLUMED: 5 Applying (backward loop)                     10001     0.009786     0.000001     0.000001     0.000090\n",
      "PLUMED: 6 Update                                       10001     0.239883     0.000024     0.000004     0.002385\n"
     ]
    }
   ],
   "source": [
    "%%bash\n",
    "pwd\n",
    "cd Exercises/Exercises_2\n",
    "cat > plumed.dat << EOF\n",
    "UNITS NATURAL\n",
    "data: READ FILE=../../data/uncorrelated_data VALUES=rand\n",
    "hhh: HISTOGRAM ARG=data STRIDE=1  GRID_MIN=-4.5 GRID_MAX=4.5 GRID_BIN=100 KERNEL=DISCRETE\n",
    "fes: CONVERT_TO_FES GRID=hhh TEMP=1\n",
    "DUMPGRID GRID=fes FILE=fes,dat\n",
    "EOF\n",
    "plumed driver --noatoms\n"
   ]
  },
  {
   "cell_type": "code",
   "execution_count": 30,
   "id": "structured-reconstruction",
   "metadata": {},
   "outputs": [
    {
     "name": "stdout",
     "output_type": "stream",
     "text": [
      "/mnt/c/Users/Salman Bin Kashif/Dropbox/codes/plumed-materclass-21-2\r\n"
     ]
    },
    {
     "data": {
      "text/plain": [
       "<matplotlib.legend.Legend at 0x7fdedf0166a0>"
      ]
     },
     "execution_count": 30,
     "metadata": {},
     "output_type": "execute_result"
    },
    {
     "data": {
      "image/png": "[encoded data removed]",
      "text/plain": [
       "<Figure size 432x288 with 1 Axes>"
      ]
     },
     "metadata": {
      "needs_background": "light"
     },
     "output_type": "display_data"
    }
   ],
   "source": [
    "!pwd\n",
    "import plumed\n",
    "data=plumed.read_as_pandas(\"Exercises/Exercises_2/fes.dat\")\n",
    "# plot time serie of gyration radius (Rg) and distance (d)\n",
    "plt.plot(data[\"data\"],data[\"fes\"],label=\"CV\")\n",
    "# x-y axis labels\n",
    "plt.xlabel(\"Free Energy\")\n",
    "plt.ylabel(\"CV\")\n",
    "plt.legend()"
   ]
  },
  {
   "cell_type": "markdown",
   "id": "occupational-disposal",
   "metadata": {},
   "source": [
    "### Exercise-3"
   ]
  },
  {
   "cell_type": "code",
   "execution_count": 35,
   "id": "incorporated-change",
   "metadata": {},
   "outputs": [
    {
     "name": "stdout",
     "output_type": "stream",
     "text": [
      "mkdir: cannot create directory ‘Exercises/Exercise_3’: File exists\r\n"
     ]
    }
   ],
   "source": [
    "!mkdir Exercises/Exercise_3\n"
   ]
  },
  {
   "cell_type": "code",
   "execution_count": 51,
   "id": "ruled-degree",
   "metadata": {},
   "outputs": [
    {
     "name": "stdout",
     "output_type": "stream",
     "text": [
      "/mnt/c/Users/Salman Bin Kashif/Dropbox/codes/plumed-materclass-21-2\n",
      "PLUMED: PLUMED is starting\n",
      "PLUMED: Version: 2.7.0 (git: Unknown) compiled on Dec 23 2020 at 20:21:21\n",
      "PLUMED: Please cite these papers when using PLUMED [1][2]\n",
      "PLUMED: For further information see the PLUMED web page at http://www.plumed.org\n",
      "PLUMED: Root: /home/sbkashif-wsl2/anaconda3/envs/plumed-masterclass/lib/plumed\n",
      "PLUMED: For installed feature, see /home/sbkashif-wsl2/anaconda3/envs/plumed-masterclass/lib/plumed/src/config/config.txt\n",
      "PLUMED: Molecular dynamics engine: driver\n",
      "PLUMED: Precision of reals: 8\n",
      "PLUMED: Running over 1 node\n",
      "PLUMED: Number of threads: 1\n",
      "PLUMED: Cache line size: 512\n",
      "PLUMED: Number of atoms: 0\n",
      "PLUMED: File suffix: \n",
      "PLUMED: FILE: plumed.dat\n",
      "PLUMED: Action UNITS\n",
      "PLUMED:   with label @0\n",
      "PLUMED:   length: nm\n",
      "PLUMED:   energy: kj/mol\n",
      "PLUMED:   time: ps\n",
      "PLUMED:   charge: e\n",
      "PLUMED:   mass: amu\n",
      "PLUMED:   using natural units\n",
      "PLUMED:   inside PLUMED, Boltzmann constant is 1\n",
      "PLUMED: Action READ\n",
      "PLUMED:   with label data\n",
      "PLUMED:   with stride 1\n",
      "PLUMED:   reading data from file ../../data/uncorrelated_data\n",
      "PLUMED:   reading value rand and storing as data\n",
      "PLUMED: Action CUSTOM\n",
      "PLUMED:   with label d2\n",
      "PLUMED:   with arguments data\n",
      "PLUMED:   with function : x*x\n",
      "PLUMED:   with variables : x\n",
      "PLUMED:   function as parsed by lepton: square(x)\n",
      "PLUMED:   derivatives as computed by lepton:\n",
      "PLUMED:     (x)+(x)\n",
      "PLUMED: Action AVERAGE\n",
      "PLUMED:   with label av\n",
      "PLUMED:   with stride 1\n",
      "PLUMED:   with arguments data\n",
      "PLUMED:   doing calculation in serial\n",
      "PLUMED:   weights are all equal to one\n",
      "PLUMED: Action AVERAGE\n",
      "PLUMED:   with label av2\n",
      "PLUMED:   with stride 1\n",
      "PLUMED:   with arguments d2\n",
      "PLUMED:   doing calculation in serial\n",
      "PLUMED:   weights are all equal to one\n",
      "PLUMED: Action CUSTOM\n",
      "PLUMED:   with label var\n",
      "PLUMED:   with arguments av av2\n",
      "PLUMED:   with function : y-x*x\n",
      "PLUMED:   with variables : x y\n",
      "PLUMED:   function as parsed by lepton: (y)-(square(x))\n",
      "PLUMED:   derivatives as computed by lepton:\n",
      "PLUMED:     -((x)+(x))\n",
      "PLUMED:     1\n",
      "PLUMED: Action PRINT\n",
      "PLUMED:   with label @6\n",
      "PLUMED:   with stride 1\n",
      "PLUMED:   with arguments var\n",
      "PLUMED:   on file colvar\n",
      "PLUMED:   with format  %f\n",
      "PLUMED: END FILE: plumed.dat\n",
      "PLUMED: Timestep: 1.000000\n",
      "PLUMED: KbT has not been set by the MD engine\n",
      "PLUMED: It should be set by hand where needed\n",
      "PLUMED: Relevant bibliography:\n",
      "PLUMED:   [1] The PLUMED consortium, Nat. Methods 16, 670 (2019)\n",
      "PLUMED:   [2] Tribello, Bonomi, Branduardi, Camilloni, and Bussi, Comput. Phys. Commun. 185, 604 (2014)\n",
      "PLUMED: Please read and cite where appropriate!\n",
      "PLUMED: Finished setup\n",
      "PLUMED:                                               Cycles        Total      Average      Minimum      Maximum\n",
      "PLUMED:                                                    1     1.357563     1.357563     1.357563     1.357563\n",
      "PLUMED: 1 Prepare dependencies                         10001     0.075783     0.000008     0.000001     0.005685\n",
      "PLUMED: 2 Sharing data                                 10001     0.006520     0.000001     0.000000     0.000185\n",
      "PLUMED: 3 Waiting for data                             10001     0.007922     0.000001     0.000000     0.000468\n",
      "PLUMED: 4 Calculating (forward loop)                   10001     0.237974     0.000024     0.000008     0.007211\n",
      "PLUMED: 5 Applying (backward loop)                     10001     0.070717     0.000007     0.000003     0.001608\n",
      "PLUMED: 6 Update                                       10001     0.739023     0.000074     0.000006     0.010678\n"
     ]
    }
   ],
   "source": [
    "%%bash\n",
    "pwd\n",
    "cd Exercises/Exercise_3\n",
    "cat > plumed.dat << EOF\n",
    "UNITS NATURAL\n",
    "data: READ FILE=../../data/uncorrelated_data VALUES=rand\n",
    "# This line should calculate the square of the quantity read in from the file above\n",
    "d2: CUSTOM ARG=data FUNC=x*x PERIODIC=NO \n",
    "# Calculate the average from the read-in data\n",
    "av: AVERAGE ARG=data STRIDE=1 \n",
    "# Calculate the average of the squares of the read in data\n",
    "av2: AVERAGE ARG=d2 STRIDE=1  \n",
    "# Evaluate the variance using the expression above\n",
    "var: CUSTOM ARG=av,av2 FUNC=y-x*x PERIODIC=NO \n",
    "# Print the variance\n",
    "PRINT ARG=var FILE=colvar \n",
    "EOF\n",
    "plumed driver --noatoms"
   ]
  },
  {
   "cell_type": "code",
   "execution_count": 46,
   "id": "aquatic-journal",
   "metadata": {},
   "outputs": [
    {
     "name": "stdout",
     "output_type": "stream",
     "text": [
      "/mnt/c/Users/Salman Bin Kashif/Dropbox/codes/plumed-materclass-21-2\r\n"
     ]
    },
    {
     "data": {
      "text/plain": [
       "Text(0, 0.5, 'variance')"
      ]
     },
     "execution_count": 46,
     "metadata": {},
     "output_type": "execute_result"
    },
    {
     "data": {
      "image/png": "[encoded data removed]",
      "text/plain": [
       "<Figure size 432x288 with 1 Axes>"
      ]
     },
     "metadata": {
      "needs_background": "light"
     },
     "output_type": "display_data"
    }
   ],
   "source": [
    "!pwd\n",
    "import plumed\n",
    "data=plumed.read_as_pandas(\"Exercises/Exercise_3/colvar\")\n",
    "# plot time serie of gyration radius (Rg) and distance (d)\n",
    "plt.plot(data[\"time\"],data[\"var\"])\n",
    "# x-y axis labels\n",
    "plt.xlabel(\"Number of frames\")\n",
    "plt.ylabel(\"variance\")"
   ]
  },
  {
   "cell_type": "markdown",
   "id": "needed-ghana",
   "metadata": {},
   "source": [
    "### Exercise-4"
   ]
  },
  {
   "cell_type": "code",
   "execution_count": 85,
   "id": "thrown-camel",
   "metadata": {},
   "outputs": [
    {
     "name": "stdout",
     "output_type": "stream",
     "text": [
      "/mnt/c/Users/Salman Bin Kashif/Dropbox/codes/plumed-materclass-21-2\n",
      "PLUMED: PLUMED is starting\n",
      "PLUMED: Version: 2.7.0 (git: Unknown) compiled on Dec 23 2020 at 20:21:21\n",
      "PLUMED: Please cite these papers when using PLUMED [1][2]\n",
      "PLUMED: For further information see the PLUMED web page at http://www.plumed.org\n",
      "PLUMED: Root: /home/sbkashif-wsl2/anaconda3/envs/plumed-masterclass/lib/plumed\n",
      "PLUMED: For installed feature, see /home/sbkashif-wsl2/anaconda3/envs/plumed-masterclass/lib/plumed/src/config/config.txt\n",
      "PLUMED: Molecular dynamics engine: driver\n",
      "PLUMED: Precision of reals: 8\n",
      "PLUMED: Running over 1 node\n",
      "PLUMED: Number of threads: 1\n",
      "PLUMED: Cache line size: 512\n",
      "PLUMED: Number of atoms: 0\n",
      "PLUMED: File suffix: \n",
      "PLUMED: FILE: plumed.dat\n",
      "PLUMED: Action UNITS\n",
      "PLUMED:   with label @0\n",
      "PLUMED:   length: nm\n",
      "PLUMED:   energy: kj/mol\n",
      "PLUMED:   time: ps\n",
      "PLUMED:   charge: e\n",
      "PLUMED:   mass: amu\n",
      "PLUMED:   using natural units\n",
      "PLUMED:   inside PLUMED, Boltzmann constant is 1\n",
      "PLUMED: Action READ\n",
      "PLUMED:   with label data\n",
      "PLUMED:   with stride 1\n",
      "PLUMED:   reading data from file ../../data/uncorrelated_data\n",
      "PLUMED:   reading value rand and storing as data\n",
      "PLUMED: Action AVERAGE\n",
      "PLUMED:   with label av\n",
      "PLUMED:   with stride 1\n",
      "PLUMED:   with arguments data\n",
      "PLUMED:   doing calculation in serial\n",
      "PLUMED:   clearing grid every 500 steps \n",
      "PLUMED:   weights are all equal to one\n",
      "PLUMED: Action PRINT\n",
      "PLUMED:   with label @3\n",
      "PLUMED:   with stride 500\n",
      "PLUMED:   with arguments av\n",
      "PLUMED:   on file colvar\n",
      "PLUMED:   with format  %f\n",
      "PLUMED: END FILE: plumed.dat\n",
      "PLUMED: Timestep: 1.000000\n",
      "PLUMED: KbT has not been set by the MD engine\n",
      "PLUMED: It should be set by hand where needed\n",
      "PLUMED: Relevant bibliography:\n",
      "PLUMED:   [1] The PLUMED consortium, Nat. Methods 16, 670 (2019)\n",
      "PLUMED:   [2] Tribello, Bonomi, Branduardi, Camilloni, and Bussi, Comput. Phys. Commun. 185, 604 (2014)\n",
      "PLUMED: Please read and cite where appropriate!\n",
      "PLUMED: Finished setup\n",
      "PLUMED:                                               Cycles        Total      Average      Minimum      Maximum\n",
      "PLUMED:                                                    1     0.698161     0.698161     0.698161     0.698161\n",
      "PLUMED: 1 Prepare dependencies                         10001     0.027111     0.000003     0.000001     0.000521\n",
      "PLUMED: 2 Sharing data                                 10001     0.007531     0.000001     0.000001     0.000143\n",
      "PLUMED: 3 Waiting for data                             10001     0.008638     0.000001     0.000001     0.000720\n",
      "PLUMED: 4 Calculating (forward loop)                   10001     0.098246     0.000010     0.000005     0.003151\n",
      "PLUMED: 5 Applying (backward loop)                     10001     0.012317     0.000001     0.000001     0.000483\n",
      "PLUMED: 6 Update                                       10001     0.335865     0.000034     0.000005     0.010866\n"
     ]
    },
    {
     "name": "stderr",
     "output_type": "stream",
     "text": [
      "mkdir: cannot create directory ‘Exercises/Exercise_4’: File exists\n"
     ]
    }
   ],
   "source": [
    "%%bash\n",
    "pwd\n",
    "mkdir Exercises/Exercise_4\n",
    "cd Exercises/Exercise_4\n",
    "cat > plumed.dat << EOF\n",
    "UNITS NATURAL\n",
    "data: READ FILE=../../data/uncorrelated_data VALUES=rand\n",
    "av: AVERAGE ARG=data STRIDE=1 CLEAR=500\n",
    "PRINT ARG=av FILE=colvar STRIDE=500\n",
    "EOF\n",
    "plumed driver --noatoms"
   ]
  },
  {
   "cell_type": "code",
   "execution_count": 87,
   "id": "disabled-rings",
   "metadata": {},
   "outputs": [
    {
     "name": "stdout",
     "output_type": "stream",
     "text": [
      "/mnt/c/Users/Salman Bin Kashif/Dropbox/codes/plumed-materclass-21-2\r\n"
     ]
    },
    {
     "data": {
      "text/plain": [
       "Text(0, 0.5, 'Average value')"
      ]
     },
     "execution_count": 87,
     "metadata": {},
     "output_type": "execute_result"
    },
    {
     "data": {
      "image/png": "[encoded data removed]",
      "text/plain": [
       "<Figure size 432x288 with 1 Axes>"
      ]
     },
     "metadata": {
      "needs_background": "light"
     },
     "output_type": "display_data"
    }
   ],
   "source": [
    "!pwd\n",
    "import plumed\n",
    "data=plumed.read_as_pandas(\"Exercises/Exercise_4/colvar\")\n",
    "# plot time serie of gyration radius (Rg) and distance (d)\n",
    "plt.plot(data[\"time\"],data[\"av\"],'yo')\n",
    "# x-y axis labels\n",
    "plt.xlabel(\"Index\")\n",
    "plt.ylabel(\"Average value\")"
   ]
  },
  {
   "cell_type": "markdown",
   "id": "seventh-grammar",
   "metadata": {},
   "source": [
    "### Exercise-5"
   ]
  },
  {
   "cell_type": "code",
   "execution_count": 64,
   "id": "chinese-player",
   "metadata": {},
   "outputs": [
    {
     "name": "stdout",
     "output_type": "stream",
     "text": [
      "/mnt/c/Users/Salman Bin Kashif/Dropbox/codes/plumed-materclass-21-2\n",
      "/mnt/c/Users/Salman Bin Kashif/Dropbox/codes/plumed-materclass-21-2/Exercises/Exercise_5\n",
      "PLUMED: PLUMED is starting\n",
      "PLUMED: Version: 2.7.0 (git: Unknown) compiled on Dec 23 2020 at 20:21:21\n",
      "PLUMED: Please cite these papers when using PLUMED [1][2]\n",
      "PLUMED: For further information see the PLUMED web page at http://www.plumed.org\n",
      "PLUMED: Root: /home/sbkashif-wsl2/anaconda3/envs/plumed-masterclass/lib/plumed\n",
      "PLUMED: For installed feature, see /home/sbkashif-wsl2/anaconda3/envs/plumed-masterclass/lib/plumed/src/config/config.txt\n",
      "PLUMED: Molecular dynamics engine: driver\n",
      "PLUMED: Precision of reals: 8\n",
      "PLUMED: Running over 1 node\n",
      "PLUMED: Number of threads: 1\n",
      "PLUMED: Cache line size: 512\n",
      "PLUMED: Number of atoms: 0\n",
      "PLUMED: File suffix: \n",
      "PLUMED: FILE: plumed.dat\n",
      "PLUMED: Action UNITS\n",
      "PLUMED:   with label @0\n",
      "PLUMED:   length: nm\n",
      "PLUMED:   energy: kj/mol\n",
      "PLUMED:   time: ps\n",
      "PLUMED:   charge: e\n",
      "PLUMED:   mass: amu\n",
      "PLUMED:   using natural units\n",
      "PLUMED:   inside PLUMED, Boltzmann constant is 1\n",
      "PLUMED: Action READ\n",
      "PLUMED:   with label data\n",
      "PLUMED:   with stride 1\n",
      "PLUMED:   reading data from file ../../data/uncorrelated_data\n",
      "PLUMED:   reading value rand and storing as data\n",
      "PLUMED: Action HISTOGRAM\n",
      "PLUMED:   with label hhh\n",
      "PLUMED:   with stride 1\n",
      "PLUMED:   with arguments data\n",
      "PLUMED:   clearing grid every 500 steps \n",
      "PLUMED:   weights are all equal to one\n",
      "PLUMED:   grid of 101 equally spaced points between (-4.5) and (4.5)\n",
      "PLUMED: Action DUMPGRID\n",
      "PLUMED:   with label @3\n",
      "PLUMED:   with stride 1000\n",
      "PLUMED:   outputting grid calculated by action hhh to file named hist.dat with format %f \n",
      "PLUMED:   outputting data for replicas 0 END FILE: plumed.dat\n",
      "PLUMED: Timestep: 1.000000\n",
      "PLUMED: KbT has not been set by the MD engine\n",
      "PLUMED: It should be set by hand where needed\n",
      "PLUMED: Relevant bibliography:\n",
      "PLUMED:   [1] The PLUMED consortium, Nat. Methods 16, 670 (2019)\n",
      "PLUMED:   [2] Tribello, Bonomi, Branduardi, Camilloni, and Bussi, Comput. Phys. Commun. 185, 604 (2014)\n",
      "PLUMED: Please read and cite where appropriate!\n",
      "PLUMED: Finished setup\n",
      "PLUMED:                                               Cycles        Total      Average      Minimum      Maximum\n",
      "PLUMED:                                                    1     0.685682     0.685682     0.685682     0.685682\n",
      "PLUMED: 1 Prepare dependencies                         10001     0.023666     0.000002     0.000001     0.000182\n",
      "PLUMED: 2 Sharing data                                 10001     0.005720     0.000001     0.000000     0.000081\n",
      "PLUMED: 3 Waiting for data                             10001     0.006002     0.000001     0.000000     0.000179\n",
      "PLUMED: 4 Calculating (forward loop)                   10001     0.075100     0.000008     0.000004     0.000549\n",
      "PLUMED: 5 Applying (backward loop)                     10001     0.010296     0.000001     0.000001     0.000085\n",
      "PLUMED: 6 Update                                       10001     0.405756     0.000041     0.000004     0.024127\n"
     ]
    }
   ],
   "source": [
    "%%bash\n",
    "pwd\n",
    "cd Exercises/Exercise_5\n",
    "pwd\n",
    "cat > plumed.dat << EOF\n",
    "UNITS NATURAL\n",
    "data: READ FILE=../../data/uncorrelated_data VALUES=rand\n",
    "hhh: HISTOGRAM ARG=data STRIDE=1 GRID_MIN=-4.5 GRID_MAX=4.5 GRID_BIN=100 CLEAR=1000 KERNEL=DISCRETE\n",
    "DUMPGRID GRID=hhh FILE=hist.dat STRIDE=1000 \n",
    "EOF\n",
    "plumed driver --noatoms"
   ]
  },
  {
   "cell_type": "code",
   "execution_count": 68,
   "id": "sufficient-lotus",
   "metadata": {},
   "outputs": [
    {
     "name": "stdout",
     "output_type": "stream",
     "text": [
      "10\n"
     ]
    },
    {
     "name": "stderr",
     "output_type": "stream",
     "text": [
      "<ipython-input-68-a88d76e9cb9d>:19: RuntimeWarning: divide by zero encountered in log\n",
      "  fes = -np.log( average )\n",
      "<ipython-input-68-a88d76e9cb9d>:21: RuntimeWarning: invalid value encountered in true_divide\n",
      "  ferr = error / average\n"
     ]
    },
    {
     "data": {
      "image/png": "[encoded data removed]",
      "text/plain": [
       "<Figure size 432x288 with 1 Axes>"
      ]
     },
     "metadata": {
      "needs_background": "light"
     },
     "output_type": "display_data"
    }
   ],
   "source": [
    "import matplotlib.pyplot as plt\n",
    "import numpy as np\n",
    "import glob\n",
    " \n",
    "hist1 = np.loadtxt(\"Exercises/Exercise_5/hist.dat\")\n",
    "N, average, average2 = 1, hist1[:,1], hist1[:,1]*hist1[:,1]\n",
    "for filen in glob.glob( \"Exercises/Exercise_5/analysis.*.hist.dat\") : \n",
    "    histn = np.loadtxt(filen)\n",
    "    N, average, average2 = N + 1, average + histn[:,1], average2 + histn[:,1]*histn[:,1]\n",
    "print(N)    \n",
    "# Final averages \n",
    "average = average / N\n",
    "# Final variances\n",
    "var = (N/(N-1))*( average2 / N - average*average ) \n",
    "# Errors\n",
    "error = np.sqrt( var / N )\n",
    " \n",
    "# Convert to free energy \n",
    "fes = -np.log( average )\n",
    "# Convert to error in fes\n",
    "ferr = error / average \n",
    " \n",
    "# And draw graph of free energy surface\n",
    "plt.fill_between( hist1[:,0], fes-ferr, fes+ferr )\n",
    "plt.xlabel(\"CV value\")\n",
    "plt.ylabel('Free energy')\n",
    "plt.show()"
   ]
  },
  {
   "cell_type": "markdown",
   "id": "addressed-punishment",
   "metadata": {},
   "source": [
    "### Exercise-6"
   ]
  },
  {
   "cell_type": "code",
   "execution_count": 70,
   "id": "liked-minority",
   "metadata": {},
   "outputs": [],
   "source": [
    "import numpy as np\n",
    " \n",
    "ddd = np.loadtxt(\"data/uncorrelated_data\")\n",
    "data = ddd[0:500,1]\n",
    " \n",
    "bootstraps = np.zeros(200)\n",
    "for i in range(200) : \n",
    "    av = 0\n",
    "    for j in range(500) : av = av + data[np.random.randint(0,500)]\n",
    "    bootstraps[i] = av / 500 \n",
    " \n",
    "f = open(\"bootstraps\", \"w\")\n",
    "f.write(\"#! FIELDS time boot \\n\")\n",
    "for i in range(0,200):\n",
    "    f.write(str(i) + \" \"  + str(bootstraps[i]) + \"\\n\" )\n",
    "f.close()"
   ]
  },
  {
   "cell_type": "code",
   "execution_count": 73,
   "id": "pleased-reader",
   "metadata": {},
   "outputs": [
    {
     "name": "stdout",
     "output_type": "stream",
     "text": [
      "/mnt/c/Users/Salman Bin Kashif/Dropbox/codes/plumed-materclass-21-2\n",
      "/mnt/c/Users/Salman Bin Kashif/Dropbox/codes/plumed-materclass-21-2/Exercises/Exercise_6\n",
      "PLUMED: PLUMED is starting\n",
      "PLUMED: Version: 2.7.0 (git: Unknown) compiled on Dec 23 2020 at 20:21:21\n",
      "PLUMED: Please cite these papers when using PLUMED [1][2]\n",
      "PLUMED: For further information see the PLUMED web page at http://www.plumed.org\n",
      "PLUMED: Root: /home/sbkashif-wsl2/anaconda3/envs/plumed-masterclass/lib/plumed\n",
      "PLUMED: For installed feature, see /home/sbkashif-wsl2/anaconda3/envs/plumed-masterclass/lib/plumed/src/config/config.txt\n",
      "PLUMED: Molecular dynamics engine: driver\n",
      "PLUMED: Precision of reals: 8\n",
      "PLUMED: Running over 1 node\n",
      "PLUMED: Number of threads: 1\n",
      "PLUMED: Cache line size: 512\n",
      "PLUMED: Number of atoms: 0\n",
      "PLUMED: File suffix: \n",
      "PLUMED: FILE: plumed.dat\n",
      "PLUMED: Action UNITS\n",
      "PLUMED:   with label @0\n",
      "PLUMED:   length: nm\n",
      "PLUMED:   energy: kj/mol\n",
      "PLUMED:   time: ps\n",
      "PLUMED:   charge: e\n",
      "PLUMED:   mass: amu\n",
      "PLUMED:   using natural units\n",
      "PLUMED:   inside PLUMED, Boltzmann constant is 1\n",
      "PLUMED: Action READ\n",
      "PLUMED:   with label data\n",
      "PLUMED:   with stride 1\n",
      "PLUMED:   reading data from file bootstraps\n",
      "PLUMED:   reading value boot and storing as data\n",
      "PLUMED: Action CUSTOM\n",
      "PLUMED:   with label d2\n",
      "PLUMED:   with arguments data\n",
      "PLUMED:   with function : x*x\n",
      "PLUMED:   with variables : x\n",
      "PLUMED:   function as parsed by lepton: square(x)\n",
      "PLUMED:   derivatives as computed by lepton:\n",
      "PLUMED:     (x)+(x)\n",
      "PLUMED: Action AVERAGE\n",
      "PLUMED:   with label av\n",
      "PLUMED:   with stride 1\n",
      "PLUMED:   with arguments data\n",
      "PLUMED:   doing calculation in serial\n",
      "PLUMED:   weights are all equal to one\n",
      "PLUMED: Action AVERAGE\n",
      "PLUMED:   with label av2\n",
      "PLUMED:   with stride 1\n",
      "PLUMED:   with arguments d2\n",
      "PLUMED:   doing calculation in serial\n",
      "PLUMED:   weights are all equal to one\n",
      "PLUMED: Action CUSTOM\n",
      "PLUMED:   with label var\n",
      "PLUMED:   with arguments av av2\n",
      "PLUMED:   with function : y-x*x\n",
      "PLUMED:   with variables : x y\n",
      "PLUMED:   function as parsed by lepton: (y)-(square(x))\n",
      "PLUMED:   derivatives as computed by lepton:\n",
      "PLUMED:     -((x)+(x))\n",
      "PLUMED:     1\n",
      "PLUMED: Action PRINT\n",
      "PLUMED:   with label @6\n",
      "PLUMED:   with stride 1\n",
      "PLUMED:   with arguments var\n",
      "PLUMED:   on file colvar\n",
      "PLUMED:   with format  %f\n",
      "PLUMED: END FILE: plumed.dat\n",
      "PLUMED: Timestep: 1.000000\n",
      "PLUMED: KbT has not been set by the MD engine\n",
      "PLUMED: It should be set by hand where needed\n",
      "PLUMED: Relevant bibliography:\n",
      "PLUMED:   [1] The PLUMED consortium, Nat. Methods 16, 670 (2019)\n",
      "PLUMED:   [2] Tribello, Bonomi, Branduardi, Camilloni, and Bussi, Comput. Phys. Commun. 185, 604 (2014)\n",
      "PLUMED: Please read and cite where appropriate!\n",
      "PLUMED: Finished setup\n",
      "PLUMED:                                               Cycles        Total      Average      Minimum      Maximum\n",
      "PLUMED:                                                    1     0.106065     0.106065     0.106065     0.106065\n",
      "PLUMED: 1 Prepare dependencies                           200     0.000791     0.000004     0.000001     0.000047\n",
      "PLUMED: 2 Sharing data                                   200     0.000112     0.000001     0.000000     0.000002\n",
      "PLUMED: 3 Waiting for data                               200     0.000117     0.000001     0.000000     0.000002\n",
      "PLUMED: 4 Calculating (forward loop)                     200     0.003574     0.000018     0.000008     0.000214\n",
      "PLUMED: 5 Applying (backward loop)                       200     0.001299     0.000006     0.000003     0.000137\n",
      "PLUMED: 6 Update                                         200     0.012404     0.000062     0.000006     0.001565\n"
     ]
    }
   ],
   "source": [
    "%%bash\n",
    "pwd\n",
    "cd Exercises/Exercise_6\n",
    "pwd\n",
    "cat > plumed.dat << EOF\n",
    "UNITS NATURAL\n",
    "data: READ FILE=bootstraps VALUES=boot\n",
    "# This line should calculate the square of the quantity read in from the file above\n",
    "d2: CUSTOM ARG=data FUNC=x*x PERIODIC=NO \n",
    "# Calculate the average from the read-in data\n",
    "av: AVERAGE ARG=data STRIDE=1 \n",
    "# Calculate the average of the squares of the read in data\n",
    "av2: AVERAGE ARG=d2 STRIDE=1 \n",
    "# Evaluate the variance using the expression above\n",
    "var: CUSTOM ARG=av,av2 FUNC=y-x*x PERIODIC=NO \n",
    "# Print the variance\n",
    "PRINT ARG=var FILE=colvar \n",
    "EOF\n",
    "plumed driver --noatoms"
   ]
  },
  {
   "cell_type": "code",
   "execution_count": 75,
   "id": "together-parent",
   "metadata": {},
   "outputs": [
    {
     "name": "stdout",
     "output_type": "stream",
     "text": [
      "/mnt/c/Users/Salman Bin Kashif/Dropbox/codes/plumed-materclass-21-2\r\n"
     ]
    },
    {
     "data": {
      "text/plain": [
       "Text(0, 0.5, 'variance')"
      ]
     },
     "execution_count": 75,
     "metadata": {},
     "output_type": "execute_result"
    },
    {
     "data": {
      "image/png": "[encoded data removed]",
      "text/plain": [
       "<Figure size 432x288 with 1 Axes>"
      ]
     },
     "metadata": {
      "needs_background": "light"
     },
     "output_type": "display_data"
    }
   ],
   "source": [
    "!pwd\n",
    "import plumed\n",
    "data=plumed.read_as_pandas(\"Exercises/Exercise_6/colvar\")\n",
    "# plot time serie of gyration radius (Rg) and distance (d)\n",
    "plt.plot(data[\"time\"],data[\"var\"])\n",
    "# x-y axis labels\n",
    "plt.xlabel(\"Block index\")\n",
    "plt.ylabel(\"variance\")"
   ]
  },
  {
   "cell_type": "markdown",
   "id": "accredited-marine",
   "metadata": {},
   "source": [
    "### Exercise-7"
   ]
  },
  {
   "cell_type": "code",
   "execution_count": 76,
   "id": "whole-workplace",
   "metadata": {},
   "outputs": [
    {
     "name": "stdout",
     "output_type": "stream",
     "text": [
      "/mnt/c/Users/Salman Bin Kashif/Dropbox/codes/plumed-materclass-21-2\n",
      "PLUMED: PLUMED is starting\n",
      "PLUMED: Version: 2.7.0 (git: Unknown) compiled on Dec 23 2020 at 20:21:21\n",
      "PLUMED: Please cite these papers when using PLUMED [1][2]\n",
      "PLUMED: For further information see the PLUMED web page at http://www.plumed.org\n",
      "PLUMED: Root: /home/sbkashif-wsl2/anaconda3/envs/plumed-masterclass/lib/plumed\n",
      "PLUMED: For installed feature, see /home/sbkashif-wsl2/anaconda3/envs/plumed-masterclass/lib/plumed/src/config/config.txt\n",
      "PLUMED: Molecular dynamics engine: driver\n",
      "PLUMED: Precision of reals: 8\n",
      "PLUMED: Running over 1 node\n",
      "PLUMED: Number of threads: 1\n",
      "PLUMED: Cache line size: 512\n",
      "PLUMED: Number of atoms: 0\n",
      "PLUMED: File suffix: \n",
      "PLUMED: FILE: plumed.dat\n",
      "PLUMED: Action UNITS\n",
      "PLUMED:   with label @0\n",
      "PLUMED:   length: nm\n",
      "PLUMED:   energy: kj/mol\n",
      "PLUMED:   time: ps\n",
      "PLUMED:   charge: e\n",
      "PLUMED:   mass: amu\n",
      "PLUMED:   using natural units\n",
      "PLUMED:   inside PLUMED, Boltzmann constant is 1\n",
      "PLUMED: Action READ\n",
      "PLUMED:   with label data\n",
      "PLUMED:   with stride 1\n",
      "PLUMED:   reading data from file ../../data/correlated_data\n",
      "PLUMED:   reading value rand and storing as data\n",
      "PLUMED: Action AVERAGE\n",
      "PLUMED:   with label av\n",
      "PLUMED:   with stride 1\n",
      "PLUMED:   with arguments data\n",
      "PLUMED:   doing calculation in serial\n",
      "PLUMED:   clearing grid every 500 steps \n",
      "PLUMED:   weights are all equal to one\n",
      "PLUMED: Action PRINT\n",
      "PLUMED:   with label @3\n",
      "PLUMED:   with stride 1\n",
      "PLUMED:   with arguments data av\n",
      "PLUMED:   on file colvar\n",
      "PLUMED:   with format  %f\n",
      "PLUMED: END FILE: plumed.dat\n",
      "PLUMED: Timestep: 1.000000\n",
      "PLUMED: KbT has not been set by the MD engine\n",
      "PLUMED: It should be set by hand where needed\n",
      "PLUMED: Relevant bibliography:\n",
      "PLUMED:   [1] The PLUMED consortium, Nat. Methods 16, 670 (2019)\n",
      "PLUMED:   [2] Tribello, Bonomi, Branduardi, Camilloni, and Bussi, Comput. Phys. Commun. 185, 604 (2014)\n",
      "PLUMED: Please read and cite where appropriate!\n",
      "PLUMED: Finished setup\n",
      "PLUMED:                                               Cycles        Total      Average      Minimum      Maximum\n",
      "PLUMED:                                                    1     2.708265     2.708265     2.708265     2.708265\n",
      "PLUMED: 1 Prepare dependencies                         10001     0.068734     0.000007     0.000002     0.004435\n",
      "PLUMED: 2 Sharing data                                 10001     0.007853     0.000001     0.000001     0.000127\n",
      "PLUMED: 3 Waiting for data                             10001     0.012637     0.000001     0.000001     0.004750\n",
      "PLUMED: 4 Calculating (forward loop)                   10001     0.166396     0.000017     0.000008     0.004942\n",
      "PLUMED: 5 Applying (backward loop)                     10001     0.023672     0.000002     0.000001     0.003749\n",
      "PLUMED: 6 Update                                       10001     2.134408     0.000213     0.000011     0.049811\n"
     ]
    }
   ],
   "source": [
    "%%bash\n",
    "pwd\n",
    "mkdir Exercises/Exercise_7\n",
    "cd Exercises/Exercise_7\n",
    "cat > plumed.dat << EOF\n",
    "UNITS NATURAL\n",
    "data: READ FILE=../../data/correlated_data VALUES=rand\n",
    "av: AVERAGE ARG=data STRIDE=1 CLEAR=500\n",
    "PRINT ARG=data,av FILE=colvar \n",
    "EOF\n",
    "plumed driver --noatoms"
   ]
  },
  {
   "cell_type": "code",
   "execution_count": 77,
   "id": "material-variable",
   "metadata": {},
   "outputs": [
    {
     "name": "stdout",
     "output_type": "stream",
     "text": [
      "/mnt/c/Users/Salman Bin Kashif/Dropbox/codes/plumed-materclass-21-2\r\n"
     ]
    },
    {
     "data": {
      "text/plain": [
       "Text(0, 0.5, 'Average value')"
      ]
     },
     "execution_count": 77,
     "metadata": {},
     "output_type": "execute_result"
    },
    {
     "data": {
      "image/png": "[encoded data removed]",
      "text/plain": [
       "<Figure size 432x288 with 1 Axes>"
      ]
     },
     "metadata": {
      "needs_background": "light"
     },
     "output_type": "display_data"
    }
   ],
   "source": [
    "!pwd\n",
    "import plumed\n",
    "data=plumed.read_as_pandas(\"Exercises/Exercise_7/colvar\")\n",
    "# plot time serie of gyration radius (Rg) and distance (d)\n",
    "plt.plot(data[\"time\"],data[\"data\"], 'bo', data[\"av\"],'yo')\n",
    "# x-y axis labels\n",
    "plt.xlabel(\"Index\")\n",
    "plt.ylabel(\"Average value\")"
   ]
  },
  {
   "cell_type": "code",
   "execution_count": 78,
   "id": "flush-assurance",
   "metadata": {},
   "outputs": [],
   "source": [
    "import numpy as np\n",
    " \n",
    "ddd = np.loadtxt(\"data/correlated_data\")\n",
    "data = ddd[0:500,1]\n",
    " \n",
    "bootstraps = np.zeros(200)\n",
    "for i in range(200) : \n",
    "    av = 0\n",
    "    for j in range(500) : av = av + data[np.random.randint(0,500)]\n",
    "    bootstraps[i] = av / 500 \n",
    " \n",
    "f = open(\"Exercises/Exercise_7/bootstraps\", \"w\")\n",
    "f.write(\"#! FIELDS time boot \\n\")\n",
    "for i in range(0,200):\n",
    "    f.write(str(i) + \" \"  + str(bootstraps[i]) + \"\\n\" )\n",
    "f.close()"
   ]
  },
  {
   "cell_type": "code",
   "execution_count": 79,
   "id": "hybrid-russia",
   "metadata": {},
   "outputs": [
    {
     "name": "stdout",
     "output_type": "stream",
     "text": [
      "/mnt/c/Users/Salman Bin Kashif/Dropbox/codes/plumed-materclass-21-2\n",
      "/mnt/c/Users/Salman Bin Kashif/Dropbox/codes/plumed-materclass-21-2/Exercises/Exercise_7\n",
      "PLUMED: PLUMED is starting\n",
      "PLUMED: Version: 2.7.0 (git: Unknown) compiled on Dec 23 2020 at 20:21:21\n",
      "PLUMED: Please cite these papers when using PLUMED [1][2]\n",
      "PLUMED: For further information see the PLUMED web page at http://www.plumed.org\n",
      "PLUMED: Root: /home/sbkashif-wsl2/anaconda3/envs/plumed-masterclass/lib/plumed\n",
      "PLUMED: For installed feature, see /home/sbkashif-wsl2/anaconda3/envs/plumed-masterclass/lib/plumed/src/config/config.txt\n",
      "PLUMED: Molecular dynamics engine: driver\n",
      "PLUMED: Precision of reals: 8\n",
      "PLUMED: Running over 1 node\n",
      "PLUMED: Number of threads: 1\n",
      "PLUMED: Cache line size: 512\n",
      "PLUMED: Number of atoms: 0\n",
      "PLUMED: File suffix: \n",
      "PLUMED: FILE: plumed.dat\n",
      "PLUMED: Action UNITS\n",
      "PLUMED:   with label @0\n",
      "PLUMED:   length: nm\n",
      "PLUMED:   energy: kj/mol\n",
      "PLUMED:   time: ps\n",
      "PLUMED:   charge: e\n",
      "PLUMED:   mass: amu\n",
      "PLUMED:   using natural units\n",
      "PLUMED:   inside PLUMED, Boltzmann constant is 1\n",
      "PLUMED: Action READ\n",
      "PLUMED:   with label data\n",
      "PLUMED:   with stride 1\n",
      "PLUMED:   reading data from file bootstraps\n",
      "PLUMED:   reading value boot and storing as data\n",
      "PLUMED: Action CUSTOM\n",
      "PLUMED:   with label d2\n",
      "PLUMED:   with arguments data\n",
      "PLUMED:   with function : x*x\n",
      "PLUMED:   with variables : x\n",
      "PLUMED:   function as parsed by lepton: square(x)\n",
      "PLUMED:   derivatives as computed by lepton:\n",
      "PLUMED:     (x)+(x)\n",
      "PLUMED: Action AVERAGE\n",
      "PLUMED:   with label av\n",
      "PLUMED:   with stride 1\n",
      "PLUMED:   with arguments data\n",
      "PLUMED:   doing calculation in serial\n",
      "PLUMED:   weights are all equal to one\n",
      "PLUMED: Action AVERAGE\n",
      "PLUMED:   with label av2\n",
      "PLUMED:   with stride 1\n",
      "PLUMED:   with arguments d2\n",
      "PLUMED:   doing calculation in serial\n",
      "PLUMED:   weights are all equal to one\n",
      "PLUMED: Action CUSTOM\n",
      "PLUMED:   with label var\n",
      "PLUMED:   with arguments av av2\n",
      "PLUMED:   with function : y-x*x\n",
      "PLUMED:   with variables : x y\n",
      "PLUMED:   function as parsed by lepton: (y)-(square(x))\n",
      "PLUMED:   derivatives as computed by lepton:\n",
      "PLUMED:     -((x)+(x))\n",
      "PLUMED:     1\n",
      "PLUMED: Action PRINT\n",
      "PLUMED:   with label @6\n",
      "PLUMED:   with stride 1\n",
      "PLUMED:   with arguments var\n",
      "PLUMED:   on file colvar\n",
      "PLUMED:   with format  %f\n",
      "PLUMED: END FILE: plumed.dat\n",
      "PLUMED: Timestep: 1.000000\n",
      "PLUMED: KbT has not been set by the MD engine\n",
      "PLUMED: It should be set by hand where needed\n",
      "PLUMED: Relevant bibliography:\n",
      "PLUMED:   [1] The PLUMED consortium, Nat. Methods 16, 670 (2019)\n",
      "PLUMED:   [2] Tribello, Bonomi, Branduardi, Camilloni, and Bussi, Comput. Phys. Commun. 185, 604 (2014)\n",
      "PLUMED: Please read and cite where appropriate!\n",
      "PLUMED: Finished setup\n",
      "PLUMED:                                               Cycles        Total      Average      Minimum      Maximum\n",
      "PLUMED:                                                    1     0.160474     0.160474     0.160474     0.160474\n",
      "PLUMED: 1 Prepare dependencies                           200     0.001054     0.000005     0.000002     0.000031\n",
      "PLUMED: 2 Sharing data                                   200     0.000154     0.000001     0.000001     0.000002\n",
      "PLUMED: 3 Waiting for data                               200     0.000151     0.000001     0.000001     0.000002\n",
      "PLUMED: 4 Calculating (forward loop)                     200     0.004412     0.000022     0.000010     0.000061\n",
      "PLUMED: 5 Applying (backward loop)                       200     0.001514     0.000008     0.000004     0.000031\n",
      "PLUMED: 6 Update                                         200     0.025655     0.000128     0.000007     0.005261\n"
     ]
    }
   ],
   "source": [
    "%%bash\n",
    "pwd\n",
    "cd Exercises/Exercise_7\n",
    "pwd\n",
    "cat > plumed.dat << EOF\n",
    "UNITS NATURAL\n",
    "data: READ FILE=bootstraps VALUES=boot\n",
    "# This line should calculate the square of the quantity read in from the file above\n",
    "d2: CUSTOM ARG=data FUNC=x*x PERIODIC=NO \n",
    "# Calculate the average from the read-in data\n",
    "av: AVERAGE ARG=data STRIDE=1 \n",
    "# Calculate the average of the squares of the read in data\n",
    "av2: AVERAGE ARG=d2 STRIDE=1 \n",
    "# Evaluate the variance using the expression above\n",
    "var: CUSTOM ARG=av,av2 FUNC=y-x*x PERIODIC=NO \n",
    "# Print the variance\n",
    "PRINT ARG=var FILE=colvar \n",
    "EOF\n",
    "plumed driver --noatoms"
   ]
  },
  {
   "cell_type": "code",
   "execution_count": 82,
   "id": "threaded-perspective",
   "metadata": {},
   "outputs": [
    {
     "name": "stdout",
     "output_type": "stream",
     "text": [
      "/mnt/c/Users/Salman Bin Kashif/Dropbox/codes/plumed-materclass-21-2\r\n"
     ]
    },
    {
     "data": {
      "text/plain": [
       "<matplotlib.legend.Legend at 0x7fdedc1dc610>"
      ]
     },
     "execution_count": 82,
     "metadata": {},
     "output_type": "execute_result"
    },
    {
     "data": {
      "image/png": "[encoded data removed]",
      "text/plain": [
       "<Figure size 432x288 with 1 Axes>"
      ]
     },
     "metadata": {
      "needs_background": "light"
     },
     "output_type": "display_data"
    }
   ],
   "source": [
    "!pwd\n",
    "import plumed\n",
    "data=plumed.read_as_pandas(\"Exercises/Exercise_7/colvar\")\n",
    "data1=plumed.read_as_pandas(\"Exercises/Exercise_6/colvar\")\n",
    "# plot time serie of gyration radius (Rg) and distance (d)\n",
    "plt.plot(data[\"time\"],data[\"var\"], label=\"Correlated\")\n",
    "plt.plot(data1[\"time\"],data1[\"var\"], label=\"Uncorrelated\")\n",
    "# x-y axis labels\n",
    "plt.xlabel(\"Block index\")\n",
    "plt.ylabel(\"variance\")\n",
    "plt.legend()"
   ]
  },
  {
   "cell_type": "markdown",
   "id": "reverse-march",
   "metadata": {},
   "source": [
    "### Exercise-8"
   ]
  },
  {
   "cell_type": "code",
   "execution_count": null,
   "id": "perfect-tanzania",
   "metadata": {},
   "outputs": [],
   "source": [
    "\n",
    "%%bash\n",
    "pwd\n",
    "cd Exercises/Exercise_7\n",
    "pwd\n",
    "cat > plumed.dat << EOFUNITS NATURAL # This ensures that Boltzmann's constant is one \n",
    "data: READ FILE=weighted_data VALUES=rand \n",
    "# This restraint and the REWEIGHT_BIAS command after computes the weights in the formulas above.\n",
    "mm: RESTRAINT ARG=data AT=0.6 KAPPA=4 \n",
    "rw: REWEIGHT_BIAS TEMP=1 \n",
    "wav: AVERAGE ARG=data STRIDE=1 LOGWEIGHTS=rw \n",
    "# These lines compute the variance of the random variable\n",
    "dd: CUSTOM ARG=data,wav FUNC=(x-y)*(x-y) PERIODIC=NO \n",
    "uvar: AVERAGE ARG=dd STRIDE=1 LOGWEIGHTS=rw NORMALIZATION=false \n",
    "one: CONSTANT VALUE=1 \n",
    "wsum: AVERAGE ARG=one STRIDE=1 LOGWEIGHTS=rw NORMALIZATION=false \n",
    "var: CUSTOM ARG=wav,var FUNC=x/(y-1) PERIODIC=NO \n",
    "# Print out the average and variance of the uniform random variable\n",
    "PRINT ARG=wsum,var STRIDE=1 FILE=colvar \n",
    "# Construct the histogram\n",
    "hhh: HISTOGRAM ARG=data LOGWEIGHTS=rw GRID_MIN=0 GRID_MAX=1 GRID_MIN=20 CLEAR=1000 NORMALIZATION=true KERNEL=DISCRETE \n",
    "DUMPGRID GRID=hhh FILE=hist.dat STRIDE=1000 \n",
    "EOF\n",
    "plumed driver --noatoms"
   ]
  }
 ],
 "metadata": {
  "kernelspec": {
   "display_name": "Python 3",
   "language": "python",
   "name": "python3"
  },
  "language_info": {
   "codemirror_mode": {
    "name": "ipython",
    "version": 3
   },
   "file_extension": ".py",
   "mimetype": "text/x-python",
   "name": "python",
   "nbconvert_exporter": "python",
   "pygments_lexer": "ipython3",
   "version": "3.9.1"
  }
 },
 "nbformat": 4,
 "nbformat_minor": 5
}
